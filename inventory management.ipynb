{
 "cells": [
  {
   "cell_type": "code",
   "execution_count": 52,
   "id": "aea421d7-a217-44fa-a626-bc4d8a29c44b",
   "metadata": {},
   "outputs": [],
   "source": [
    "fd=open('Inventory.txt','w')\n",
    "fd.write('1,5 star,5,97\\n2,Milky bar,5,100\\n3,cake,300,5\\n4,candy,1,100\\n')\n",
    "fd.close()"
   ]
  },
  {
   "cell_type": "code",
   "execution_count": 40,
   "id": "dadc6c0d-a40c-46b5-afbd-952bd01eed51",
   "metadata": {},
   "outputs": [
    {
     "data": {
      "text/plain": [
       "'1,5 star,5,97\\n2,Milky bar,5,100\\n3,cake,300,5\\n4,candy,1,100\\n'"
      ]
     },
     "execution_count": 40,
     "metadata": {},
     "output_type": "execute_result"
    }
   ],
   "source": [
    "fd=open('Inventory.txt','r')\n",
    "txt=fd.read()\n",
    "fd.close()\n",
    "txt"
   ]
  },
  {
   "cell_type": "code",
   "execution_count": null,
   "id": "f123b92b-4875-4ee3-823b-a985e0b6e805",
   "metadata": {},
   "outputs": [],
   "source": [
    "products=txt.split('\\n')\n",
    "productss=products[:-1]\n",
    "name=input('enter your name')\n",
    "mobile=input('enter your mobile number')\n",
    "email=input('enter email id')\n",
    "ui_id=input('enter id')\n",
    "ui_qu=input('enter quantity')\n",
    "updatepro=[]\n",
    "for product in productss:\n",
    "    productDetails=product.split(',')\n",
    "    if productDetails[0]==ui_id:\n",
    "        if int(ui_qu)<=int(productDetails[3]):\n",
    "            print('-------------------')\n",
    "            print('Product Name:',productDetails[1])\n",
    "            print('Product cost:',productDetails[2])\n",
    "            print('Product quantity:',ui_qu)\n",
    "            print('-------------------')\n",
    "            print('Bill amount:',str(int(productDetails[2])*int(ui_qu)))\n",
    "            print('-------------------')\n",
    "            productDetails[3]=str(int(productDetails[3]) - int(ui_qu))\n",
    "            fd=open('inventoryDatabase.txt','a')\n",
    "            n=name+','+mobile +','+email+','+ui_id+','+ui_qu+','+str(int(productDetails[2])*int(ui_qu))+'\\n'\n",
    "            fd.write(n)\n",
    "            fd.close()\n",
    "        else:\n",
    "            print('we are having only',productDetails[3],'quantity')\n",
    "            print('enter y/n to buy')\n",
    "            res=input()\n",
    "            if res=='y' or res=='Y':\n",
    "                print('-------------------')\n",
    "                print('Product Name:',productDetails[1])\n",
    "                print('Product cost:',productDetails[2])\n",
    "                print('Product quantity:',productDetails[3])\n",
    "                print('-------------------')\n",
    "                print('Bill amount:',str(int(productDetails[2])*int(productDetails[3])))\n",
    "                print('-------------------')\n",
    "                fd=open('inventoryDatabase.txt','a')\n",
    "                n=name+','+mobile+','+email+','+ui_id+','+productDetails[3]+','+str(int(productDetails[2])*int(productDetails[3]))+'\\n'\n",
    "                fd.write(n)\n",
    "                fd.close()\n",
    "                productDetails[3]=0\n",
    "            \n",
    "    updatepro.append(productDetails)\n",
    "lst = []\n",
    "\n",
    "for i in updatepro:\n",
    "    prod = i[0] +\",\"+  i[1] +\",\"+ i[2] +\",\"+ i[3] + '\\n'\n",
    "    lst.append(prod)\n",
    "    \n",
    "fd = open('Inventory.txt','w')\n",
    "\n",
    "for i in lst:\n",
    "    fd.write(i)\n",
    "fd.close()\n",
    "fd = open('Inventory.txt','r')\n",
    "print(fd.read())\n",
    "fd.close()\n",
    "\n",
    "    "
   ]
  },
  {
   "cell_type": "code",
   "execution_count": 102,
   "id": "71333240-8d1a-4fa2-afb9-7f4806f25325",
   "metadata": {},
   "outputs": [
    {
     "data": {
      "text/plain": [
       "[['1', '5 star', '5', '100'],\n",
       " ['2', 'Milky bar', '5', '98'],\n",
       " ['3', 'cake', '300', '5'],\n",
       " ['4', 'candy', '1', '200'],\n",
       " []]"
      ]
     },
     "execution_count": 102,
     "metadata": {},
     "output_type": "execute_result"
    }
   ],
   "source": [
    "updatepro"
   ]
  },
  {
   "cell_type": "code",
   "execution_count": null,
   "id": "b9550a1f-688d-4508-8129-b4659637b672",
   "metadata": {},
   "outputs": [],
   "source": []
  },
  {
   "cell_type": "code",
   "execution_count": null,
   "id": "fa45ad01",
   "metadata": {},
   "outputs": [],
   "source": []
  }
 ],
 "metadata": {
  "kernelspec": {
   "display_name": "Python 3 (ipykernel)",
   "language": "python",
   "name": "python3"
  },
  "language_info": {
   "codemirror_mode": {
    "name": "ipython",
    "version": 3
   },
   "file_extension": ".py",
   "mimetype": "text/x-python",
   "name": "python",
   "nbconvert_exporter": "python",
   "pygments_lexer": "ipython3",
   "version": "3.12.4"
  }
 },
 "nbformat": 4,
 "nbformat_minor": 5
}
